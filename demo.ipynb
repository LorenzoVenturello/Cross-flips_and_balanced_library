{
 "cells": [
  {
   "cell_type": "markdown",
   "metadata": {},
   "source": [
    "# Demo"
   ]
  },
  {
   "cell_type": "code",
   "execution_count": null,
   "metadata": {},
   "outputs": [],
   "source": [
    "load(\"cross_flips_source_code.sage\")"
   ]
  },
  {
   "cell_type": "markdown",
   "metadata": {},
   "source": [
    "## An example in dimension 2"
   ]
  },
  {
   "cell_type": "markdown",
   "metadata": {},
   "source": [
    "Produce the (basic) non trivial cross-flips in dimension 2. The argument of cross_flips is the dimension + 1, since it refers to the dimension of the cross-polytope."
   ]
  },
  {
   "cell_type": "code",
   "execution_count": null,
   "metadata": {},
   "outputs": [],
   "source": [
    "cflips=cross_flips(3)\n",
    "cflips"	
   ]
  },
  {
   "cell_type": "markdown",
   "metadata": {},
   "source": [
    "We consider an arbitrary triangulation of the surface of genus 3 on 9 vertices, randomly chosen from the Manifold page:"
   ]
  },
  {
   "cell_type": "code",
   "execution_count": 2,
   "metadata": {},
   "outputs": [],
   "source": [
    "surface_g3_9=SimplicialComplex([[1,2,3],[1,2,4],[1,3,5],[1,4,5],[2,3,6],\n",
    " [2,4,7],[2,5,6],[2,5,8],[2,7,8],[3,4,8],[3,4,9],[3,5,7],[3,6,9],\n",
    " [3,7,8],[4,5,6],[4,6,8],[4,7,9],[5,7,9],[5,8,9],[6,8,9]])"
   ]
  },
  {
   "cell_type": "markdown",
   "metadata": {},
   "source": [
    "We take the barycentric subdivision, obtaining a balanced triangulation of the same topological space.\n",
    "The help function vertex_relabeling relabels the vertices using natural numbers.\n"
   ]
  },
  {
   "cell_type": "code",
   "execution_count": null,
   "metadata": {},
   "outputs": [],
   "source": [
    "start=vertex_relabeling(surface_g3_9.barycentric_subdivision())\n"
   ]
  },	
  {
   "cell_type": "markdown",
   "metadata": {},
   "source": [
    "How to obtain 3 up and down loops.\n"
   ]
  },
  {
   "cell_type": "code",
   "execution_count": null,
   "metadata": {},
   "outputs": [],
   "source":[
    "for i in range(3):\n",
    "\tupmoves=randomVF2(cflips,start,6)  \t### performs 6 random up flips\n",
    "\trst=upmoves[4]\n",
    "    \tapp=applicable_list(cflips,rst)         ### checks all the applicable flips \n",
    "    \tit=iteration(cflips,rst,app,[0,0,0,0,0,0,0],[0,0,0,0,0,0,0],120)  ### the zero lists are not to be considered for the moment. It performs 120 down moves.\n",
    "    \tstart=it[0]\n"
   ]
  },
  {
   "cell_type": "markdown",
   "metadata": {},
   "source": [
    "The reached triangulation is saved as start\n"
   ]
  },
  {
   "cell_type": "code",
   "execution_count": null,
   "metadata": {},
   "outputs": [],
   "source": [
    "start"
   ]
  },
  {
   "cell_type": "markdown",
   "metadata": {},
   "source": [
    "## An example in dimension 3\n",
    "\n",
    "Produce the (basic) non trivial cross-flips in dimension 3\n"
    ]
   },
   {
   "cell_type": "code",
   "execution_count": null,
   "metadata": {},
   "outputs": [],
   "source": [
    "cflips=cross_flips(4)\n",
    "cflips"
   ]
  },
  {
   "cell_type": "markdown",
   "metadata": {},
   "source": [
    "Let start be a random balanced triangulation of the 3-sphere\n"
    ]
   },
   {
   "cell_type": "code",
   "execution_count": null,
   "metadata": {},
   "outputs": [],
   "source": [
    "start=SimplicialComplex([[3,4,5,6],[0,5,6,10],[2,4,5,7],[3,4,6,11],\n",
    "\t\t\t\t\t\t [2,3,4,5],[1,2,4,10],[2,4,10,11],[4,5,6,7],\n",
    "\t\t\t\t\t\t [2,3,4,11],[1,6,7,8],[1,7,8,9],[8,9,10,11],\n",
    "\t\t\t\t\t\t [2,8,10,11],[5,6,7,8],[1,6,8,10],[0,1,3,9],\n",
    "\t\t\t\t\t\t [0,2,3,5],[1,4,6,10],[0,1,2,7],[0,1,7,9],\n",
    "\t\t\t\t\t\t [0,9,10,11],[0,3,9,11],[5,8,9,10],[1,2,4,7],\n",
    "\t\t\t\t\t\t [0,1,2,3],[3,8,9,11],[0,5,9,10],[1,2,8,10],\n",
    "\t\t\t\t\t\t [1,4,6,7],[0,6,10,11],[1,2,3,8],[5,6,8,10],\n",
    "\t\t\t\t\t\t [0,3,6,11],[0,5,7,9],[1,3,8,9],[0,3,5,6],\n",
    "\t\t\t\t\t\t [4,6,10,11],[2,3,8,11],[5,7,8,9],[0,2,5,7]])\n"
   ]
  },
  {
   "cell_type": "markdown",
   "metadata": {},
   "source": [
    "How to obtain 3 up and down loops.\n"
   ]
  },
  {
   "cell_type": "code",
   "execution_count": null,
   "metadata": {},
   "outputs": [],
   "source": [
    "for i in range(3):\n",
    "\tupmoves=randomVF2(cflips,start,6)  ### performs 6 random up flips\n",
    "\trst=upmoves[4]\n",
    "    \tapp=applicable_list(cflips,rst)         ### checks all the applicable flips \n",
    "    \tit=iteration(cflips,rst,app,[0,0,0,0,0,0,0],[0,0,0,0,0,0,0],120)  ### the zero lists are not to be considered for the moment. It performs 120 down moves.\n",
    "    \tstart=it[0]\n",
    "\t\t\t\t\t\t \n"
   ]
  },
  {
   "cell_type": "markdown",
   "metadata": {},
   "source": [
    "The iteration in dimension 3 takes much longer. In this case few loops should be sufficient to reach the boundary of the cross/polytope."
   ]
  } 
],
 "metadata": {
  "kernelspec": {
   "display_name": "SageMath 8.8.beta7",
   "language": "sage",
   "name": "sagemath"
  },
  "language_info": {
   "codemirror_mode": {
    "name": "ipython",
    "version": 2
   },
   "file_extension": ".py",
   "mimetype": "text/x-python",
   "name": "python",
   "nbconvert_exporter": "python",
   "pygments_lexer": "ipython2",
   "version": "2.7.15"
  }
 },
 "nbformat": 4,
 "nbformat_minor": 2
}
